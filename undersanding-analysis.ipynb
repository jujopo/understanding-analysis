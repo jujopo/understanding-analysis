{
 "cells": [
  {
   "cell_type": "markdown",
   "id": "0c3e1dcf",
   "metadata": {},
   "source": [
    "# The irrationality of $\\sqrt{2}$"
   ]
  },
  {
   "cell_type": "markdown",
   "id": "f8fda1e9",
   "metadata": {},
   "source": [
    "> The argument uses only arithmetic, but its depth and importance cannot be overstated. As Hardy says, “[It] is a ‘simple’ theorem, simple both in idea and execution, but there is no doubt at all about [it being] of the highest class. [It] is as fresh and significant as when it was discovered—two thousand years have not written a wrinkle on [it].”"
   ]
  },
  {
   "cell_type": "markdown",
   "id": "0fb41184",
   "metadata": {},
   "source": [
    "**Theorem 1.1.1.**  There's no rational number whose square is 2. "
   ]
  },
  {
   "cell_type": "markdown",
   "id": "150f664b",
   "metadata": {},
   "source": []
  }
 ],
 "metadata": {
  "language_info": {
   "name": "python"
  }
 },
 "nbformat": 4,
 "nbformat_minor": 5
}
